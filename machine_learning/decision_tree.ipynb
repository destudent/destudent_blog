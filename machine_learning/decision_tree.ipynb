{
 "cells": [
  {
   "cell_type": "code",
   "execution_count": 10,
   "metadata": {},
   "outputs": [],
   "source": [
    "from sklearn.tree import DecisionTreeClassifier\n",
    "from sklearn.datasets import load_iris \n",
    "import pandas as pd\n",
    "from sklearn.model_selection import train_test_split "
   ]
  },
  {
   "cell_type": "code",
   "execution_count": 23,
   "metadata": {},
   "outputs": [
    {
     "name": "stdout",
     "output_type": "stream",
     "text": [
      "예측 정확도: 0.9333\n"
     ]
    }
   ],
   "source": [
    "iris=load_iris() # iris load\n",
    "iris_data=iris.data # iris 독립변수 할당\n",
    "iris_label = iris.target #iris 타겟값(종속변수) 할당\n",
    "\n",
    "\n",
    "iris_df=pd.DataFrame(data=iris_data,columns=iris.feature_names) #df 생성\n",
    "iris_df['label']=iris.target \n",
    "\n",
    "dt_clf=DecisionTreeClassifier(random_state=11) #모델 생성\n",
    "\n",
    "X_train,X_test,y_train,y_test=train_test_split(iris_data,iris_label,test_size=0.2,random_state=11) #훈련 및 테스트 데이터 생성\n",
    "\n",
    "\n",
    "dt_clf.fit(X_train,y_train) #모델 fit\n",
    " \n",
    "pred=dt_clf.predict(X_test) #test 데이터를 통해 나온 값 예측\n",
    "\n",
    "\n",
    "from sklearn.metrics import accuracy_score\n",
    "print('예측 정확도: {0:.4f}'.format(accuracy_score(y_test,pred))) #예측값과 실제값을 비교하며 정확도 산출"
   ]
  },
  {
   "cell_type": "code",
   "execution_count": null,
   "metadata": {},
   "outputs": [],
   "source": []
  }
 ],
 "metadata": {
  "interpreter": {
   "hash": "52ee2977380704a66854748a73250e0671a9318bd5b3fd45a3df9f851ae61629"
  },
  "kernelspec": {
   "display_name": "Python 3.8.5 ('tf')",
   "language": "python",
   "name": "python3"
  },
  "language_info": {
   "codemirror_mode": {
    "name": "ipython",
    "version": 3
   },
   "file_extension": ".py",
   "mimetype": "text/x-python",
   "name": "python",
   "nbconvert_exporter": "python",
   "pygments_lexer": "ipython3",
   "version": "3.8.5"
  },
  "orig_nbformat": 4
 },
 "nbformat": 4,
 "nbformat_minor": 2
}
